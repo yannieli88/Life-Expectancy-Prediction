{
 "cells": [
  {
   "cell_type": "markdown",
   "metadata": {
    "id": "E8A0yIDCtJLa"
   },
   "source": [
    "# Life Expectancy Prediction\n",
    "\n",
    "## Dataset\n",
    "The dataset you will be using is about Life expectancy of different countries. We will explore hwo immunization factors, mortality factors, economic factors, social factors and other health related factors affect Life expectancy of a country.\n",
    "\n",
    "There are two data files: \"LifeExpectancy_training_v2.csv\" and \"LifeExpectancy_test_v2.csv\"<br/>\n",
    "Both files have the following fields, except Life_expectancy which is not available in \"LifeExpectancy_test_v2.csv\"\n",
    "\n",
    "Features :\n",
    "- Year : from 2000 to 2015\n",
    "- Status : Developed or Developing status\n",
    "- Adult_Mortality : Adult Mortality Rates of both sexes (probability of dying between 15 and 60 years per 1000 population)\n",
    "- Alcohol : Alcohol, recorded per capita (15+) consumption (in litres of pure alcohol)\n",
    "- percentage_expenditure : Expenditure on health as a percentage of Gross Domestic Product per capita(%)\n",
    "- BMI: Average Body Mass Index of entire population\n",
    "- Total_expenditure: General government expenditure on health as a percentage of total government expenditure (%)\n",
    "- Diphtheria: Diphtheria tetanus toxoid and pertussis (DTP3) immunization coverage among 1-year-olds (%)\n",
    "- HIV_AIDS: Deaths per 1000 live births HIV/AIDS (0-4 years)\n",
    "- GDP: Gross Domestic Product per capita (in USD)\n",
    "- Population\n",
    "- Income_composition_of_resources: Human Development Index in terms of income composition of resources (index ranging from 0 to 1)\n",
    "- Schooling: Number of years of Schooling(years)\n",
    "\n",
    "Target:\n",
    "- Life_expectancy: Life Expectancy in age\n",
    "\n",
    "\n",
    "Training dataset, \"LifeExpectancy_training_v2.csv\", contains 1154 rows and 14 columns. This is the training set containing both of the features and the target.<br/>\n",
    "Test dataset, \"LifeExpectancy_test_v2\", contains 495 rows and 13 columns. This is the test set which only contains the features.<br/>\n",
    "\n",
    "Your goal is to predict Life expectancy based on the features."
   ]
  },
  {
   "cell_type": "code",
   "execution_count": 1,
   "metadata": {
    "id": "xwWTXsa30LLu"
   },
   "outputs": [],
   "source": [
    "import numpy as np\n",
    "import pandas as pd"
   ]
  },
  {
   "cell_type": "markdown",
   "metadata": {
    "id": "JGLaGzbL0jdH"
   },
   "source": [
    "Load the training data in Colab and View the first 5 lines"
   ]
  },
  {
   "cell_type": "code",
   "execution_count": 2,
   "metadata": {
    "colab": {
     "base_uri": "https://localhost:8080/",
     "height": 72,
     "resources": {
      "http://localhost:8080/nbextensions/google.colab/files.js": {
       "data": "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",
       "headers": [
        [
         "content-type",
         "application/javascript"
        ]
       ],
       "ok": true,
       "status": 200,
       "status_text": ""
      }
     }
    },
    "id": "u5oaCEzI0se8",
    "outputId": "34d7e144-c4ee-4e4a-ff7c-0c3d78332bb8"
   },
   "outputs": [
    {
     "data": {
      "text/html": [
       "\n",
       "     <input type=\"file\" id=\"files-ebca1a95-7447-41c2-ba59-bd3c57a13121\" name=\"files[]\" multiple disabled\n",
       "        style=\"border:none\" />\n",
       "     <output id=\"result-ebca1a95-7447-41c2-ba59-bd3c57a13121\">\n",
       "      Upload widget is only available when the cell has been executed in the\n",
       "      current browser session. Please rerun this cell to enable.\n",
       "      </output>\n",
       "      <script src=\"/nbextensions/google.colab/files.js\"></script> "
      ],
      "text/plain": [
       "<IPython.core.display.HTML object>"
      ]
     },
     "metadata": {},
     "output_type": "display_data"
    },
    {
     "name": "stdout",
     "output_type": "stream",
     "text": [
      "Saving LifeExpectancy_training.csv to LifeExpectancy_training.csv\n"
     ]
    }
   ],
   "source": [
    "from google.colab import files\n",
    "uploaded = files.upload()"
   ]
  },
  {
   "cell_type": "code",
   "execution_count": 3,
   "metadata": {
    "id": "4qDuqT2X0xJU"
   },
   "outputs": [],
   "source": [
    "import io"
   ]
  },
  {
   "cell_type": "code",
   "execution_count": 4,
   "metadata": {
    "colab": {
     "base_uri": "https://localhost:8080/",
     "height": 224
    },
    "id": "viQgJ6uy03nd",
    "outputId": "e10725d0-eaef-4a96-c183-89966598f596"
   },
   "outputs": [
    {
     "data": {
      "text/html": [
       "<div>\n",
       "<style scoped>\n",
       "    .dataframe tbody tr th:only-of-type {\n",
       "        vertical-align: middle;\n",
       "    }\n",
       "\n",
       "    .dataframe tbody tr th {\n",
       "        vertical-align: top;\n",
       "    }\n",
       "\n",
       "    .dataframe thead th {\n",
       "        text-align: right;\n",
       "    }\n",
       "</style>\n",
       "<table border=\"1\" class=\"dataframe\">\n",
       "  <thead>\n",
       "    <tr style=\"text-align: right;\">\n",
       "      <th></th>\n",
       "      <th>Year</th>\n",
       "      <th>Status</th>\n",
       "      <th>Adult_Mortality</th>\n",
       "      <th>Alcohol</th>\n",
       "      <th>percentage_expenditure</th>\n",
       "      <th>BMI</th>\n",
       "      <th>Total_expenditure</th>\n",
       "      <th>Diphtheria</th>\n",
       "      <th>HIV_AIDS</th>\n",
       "      <th>GDP</th>\n",
       "      <th>Population</th>\n",
       "      <th>Income_composition_of_resources</th>\n",
       "      <th>Schooling</th>\n",
       "      <th>Life_expectancy</th>\n",
       "    </tr>\n",
       "  </thead>\n",
       "  <tbody>\n",
       "    <tr>\n",
       "      <th>0</th>\n",
       "      <td>2011</td>\n",
       "      <td>Developing</td>\n",
       "      <td>93</td>\n",
       "      <td>1.57</td>\n",
       "      <td>835.062683</td>\n",
       "      <td>64.0</td>\n",
       "      <td>7.12</td>\n",
       "      <td>81</td>\n",
       "      <td>0.1</td>\n",
       "      <td>8734.96530</td>\n",
       "      <td>4588368.0</td>\n",
       "      <td>0.758</td>\n",
       "      <td>13.2</td>\n",
       "      <td>75.0</td>\n",
       "    </tr>\n",
       "    <tr>\n",
       "      <th>1</th>\n",
       "      <td>2014</td>\n",
       "      <td>Developing</td>\n",
       "      <td>152</td>\n",
       "      <td>6.41</td>\n",
       "      <td>789.077295</td>\n",
       "      <td>32.4</td>\n",
       "      <td>4.12</td>\n",
       "      <td>99</td>\n",
       "      <td>0.1</td>\n",
       "      <td>5941.84710</td>\n",
       "      <td>68416772.0</td>\n",
       "      <td>0.737</td>\n",
       "      <td>13.6</td>\n",
       "      <td>74.6</td>\n",
       "    </tr>\n",
       "    <tr>\n",
       "      <th>2</th>\n",
       "      <td>2013</td>\n",
       "      <td>Developed</td>\n",
       "      <td>68</td>\n",
       "      <td>11.82</td>\n",
       "      <td>90.585012</td>\n",
       "      <td>56.6</td>\n",
       "      <td>11.14</td>\n",
       "      <td>95</td>\n",
       "      <td>0.1</td>\n",
       "      <td>554.71532</td>\n",
       "      <td>8479375.0</td>\n",
       "      <td>0.887</td>\n",
       "      <td>15.7</td>\n",
       "      <td>81.1</td>\n",
       "    </tr>\n",
       "    <tr>\n",
       "      <th>3</th>\n",
       "      <td>2014</td>\n",
       "      <td>Developed</td>\n",
       "      <td>135</td>\n",
       "      <td>0.01</td>\n",
       "      <td>1.576409</td>\n",
       "      <td>59.9</td>\n",
       "      <td>5.57</td>\n",
       "      <td>94</td>\n",
       "      <td>0.1</td>\n",
       "      <td>12.27733</td>\n",
       "      <td>1998979.0</td>\n",
       "      <td>0.797</td>\n",
       "      <td>14.7</td>\n",
       "      <td>74.8</td>\n",
       "    </tr>\n",
       "    <tr>\n",
       "      <th>4</th>\n",
       "      <td>2002</td>\n",
       "      <td>Developing</td>\n",
       "      <td>192</td>\n",
       "      <td>5.93</td>\n",
       "      <td>27.638103</td>\n",
       "      <td>2.2</td>\n",
       "      <td>3.70</td>\n",
       "      <td>96</td>\n",
       "      <td>0.7</td>\n",
       "      <td>296.54617</td>\n",
       "      <td>6473164.0</td>\n",
       "      <td>0.657</td>\n",
       "      <td>11.5</td>\n",
       "      <td>71.4</td>\n",
       "    </tr>\n",
       "  </tbody>\n",
       "</table>\n",
       "</div>"
      ],
      "text/plain": [
       "   Year      Status  ...  Schooling  Life_expectancy\n",
       "0  2011  Developing  ...       13.2             75.0\n",
       "1  2014  Developing  ...       13.6             74.6\n",
       "2  2013   Developed  ...       15.7             81.1\n",
       "3  2014   Developed  ...       14.7             74.8\n",
       "4  2002  Developing  ...       11.5             71.4\n",
       "\n",
       "[5 rows x 14 columns]"
      ]
     },
     "execution_count": 4,
     "metadata": {},
     "output_type": "execute_result"
    }
   ],
   "source": [
    "df = pd.read_csv(io.BytesIO(uploaded['LifeExpectancy_training.csv']))\n",
    "df.head()"
   ]
  },
  {
   "cell_type": "code",
   "execution_count": null,
   "metadata": {
    "colab": {
     "base_uri": "https://localhost:8080/"
    },
    "id": "7C9Q2VYL6b_h",
    "outputId": "80ac5b96-b7ff-450a-a03e-0d434c610f28"
   },
   "outputs": [
    {
     "name": "stdout",
     "output_type": "stream",
     "text": [
      "<class 'pandas.core.frame.DataFrame'>\n",
      "RangeIndex: 1154 entries, 0 to 1153\n",
      "Data columns (total 14 columns):\n",
      " #   Column                           Non-Null Count  Dtype  \n",
      "---  ------                           --------------  -----  \n",
      " 0   Year                             1154 non-null   int64  \n",
      " 1   Status                           1154 non-null   object \n",
      " 2   Adult_Mortality                  1154 non-null   int64  \n",
      " 3   Alcohol                          1154 non-null   float64\n",
      " 4   percentage_expenditure           1154 non-null   float64\n",
      " 5   BMI                              1154 non-null   float64\n",
      " 6   Total_expenditure                1154 non-null   float64\n",
      " 7   Diphtheria                       1154 non-null   int64  \n",
      " 8   HIV_AIDS                         1154 non-null   float64\n",
      " 9   GDP                              1154 non-null   float64\n",
      " 10  Population                       1154 non-null   float64\n",
      " 11  Income_composition_of_resources  1154 non-null   float64\n",
      " 12  Schooling                        1154 non-null   float64\n",
      " 13  Life_expectancy                  1154 non-null   float64\n",
      "dtypes: float64(10), int64(3), object(1)\n",
      "memory usage: 126.3+ KB\n"
     ]
    }
   ],
   "source": [
    "df.info()"
   ]
  },
  {
   "cell_type": "markdown",
   "metadata": {
    "id": "kIRo3Da91IdF"
   },
   "source": [
    "## Data Exploration\n",
    "We can plot a histogram of the dataframe for the features except \"Status\" to understand their distributions. <br/>"
   ]
  },
  {
   "cell_type": "code",
   "execution_count": 6,
   "metadata": {
    "colab": {
     "base_uri": "https://localhost:8080/",
     "height": 729
    },
    "id": "iemQk82B3Nam",
    "outputId": "32de68de-72ed-47c5-a76f-cb7720510054"
   },
   "outputs": [
    {
     "data": {
      "image/png": "[encoded data removed]",
      "text/plain": [
       "<Figure size 720x720 with 16 Axes>"
      ]
     },
     "metadata": {
      "needs_background": "light"
     },
     "output_type": "display_data"
    }
   ],
   "source": [
    "### WRITE CODE TO OBTAIN AND DISPLAY HISTOGRAMS ###\n",
    "import matplotlib.pyplot as plt\n",
    "plots = df.hist(figsize=(10,10))\n",
    "plt.tight_layout()\n"
   ]
  },
  {
   "cell_type": "markdown",
   "metadata": {
    "id": "_XD0AGPM5eaD"
   },
   "source": [
    "##### Q1. What can you infer from the histograms? <br/>\n",
    "- `GDP`, `Population`, `HIV_AIDS`, `percentage_expenditure` are all highly right-skewed (should be log-transformed) and have similar distributions likely resulting in a high degree of correlation.\n",
    "- `Diphtheria`is negative-skewed.\n",
    "- `Adult_Mortality` & `Alcohol` are  right-skewed and have similar distributions likely resulting in a high degree of correlation.\n",
    "- `Income_composition_of_resources` and `Schooling` are sightly left-skewed and have similar distributions likely resulting in a high degree of correlation.\n",
    "- `Income_composition_of_resources` and `Schooling` seem to correlate with the dependent variable `Life_expectancy` as they have similar distributions.\n",
    "- One may infer that `Total_expenditure` correlates negatively with `Life_expectancy`.\n",
    "- Dependent variable `Life_expectancy` is slightly left skewed and peaks around 75 years.\n",
    "- More countries were added to the database over time (`Years`).\n",
    "- The `Adult_Mortality` lies below 200 per 1000 population for most of the entries in this dataset.\n",
    "- The per capita consumption of `Alcohol` per year is for some years as high as 17 litles for some countries in this data, however, for most countries it is much less.\n",
    "- There are a few countries in our dataset who's `percentage_expenditure` on health is particularly large.\n",
    "- `BMI` demonstrates a bimodal distribution. There are many countries on the high and low end of average population BMI with few in between.\n",
    "- Governments spend, on average, roughly 5-6% of their `Total_Expenditure` on health.\n",
    "- The immunization coverage for `Diphtheria` among 1 year olds is very high for most entries in this dataset. \n",
    "- The death rate of the babies who were born with `HIV_AIDS` is usually very low for most of the countries. \n",
    "- Most countries in our dataset have a low `GDP`.\n",
    "- `Population` is so highly skewed that little can be infered about the difference in populations of the countries of this dataset.\n",
    "- The `Income_composition_of_resources` graph shows that most countries seem to use their resources productively.\n",
    "- `Schooling` is normally distributed with an average of roughly 13 years."
   ]
  },
  {
   "cell_type": "markdown",
   "metadata": {
    "id": "xmq41MOV9Z8d"
   },
   "source": [
    "Compute the correlation matrix to get an understanding of the correlation between life_expectancy and the other features.<br/>"
   ]
  },
  {
   "cell_type": "code",
   "execution_count": null,
   "metadata": {
    "colab": {
     "base_uri": "https://localhost:8080/",
     "height": 441
    },
    "id": "WmuZTzx29bkO",
    "outputId": "45771665-8c95-4077-8fb0-7c1cc443b7a9"
   },
   "outputs": [
    {
     "data": {
      "text/html": [
       "<div>\n",
       "<style scoped>\n",
       "    .dataframe tbody tr th:only-of-type {\n",
       "        vertical-align: middle;\n",
       "    }\n",
       "\n",
       "    .dataframe tbody tr th {\n",
       "        vertical-align: top;\n",
       "    }\n",
       "\n",
       "    .dataframe thead th {\n",
       "        text-align: right;\n",
       "    }\n",
       "</style>\n",
       "<table border=\"1\" class=\"dataframe\">\n",
       "  <thead>\n",
       "    <tr style=\"text-align: right;\">\n",
       "      <th></th>\n",
       "      <th>Adult_Mortality</th>\n",
       "      <th>Alcohol</th>\n",
       "      <th>percentage_expenditure</th>\n",
       "      <th>BMI</th>\n",
       "      <th>Total_expenditure</th>\n",
       "      <th>Diphtheria</th>\n",
       "      <th>HIV_AIDS</th>\n",
       "      <th>GDP</th>\n",
       "      <th>Population</th>\n",
       "      <th>Income_composition_of_resources</th>\n",
       "      <th>Schooling</th>\n",
       "      <th>Life_expectancy</th>\n",
       "    </tr>\n",
       "  </thead>\n",
       "  <tbody>\n",
       "    <tr>\n",
       "      <th>Adult_Mortality</th>\n",
       "      <td>1.000000</td>\n",
       "      <td>-0.223558</td>\n",
       "      <td>-0.245146</td>\n",
       "      <td>-0.373558</td>\n",
       "      <td>-0.135219</td>\n",
       "      <td>-0.218970</td>\n",
       "      <td>0.522985</td>\n",
       "      <td>-0.266263</td>\n",
       "      <td>-0.009659</td>\n",
       "      <td>-0.479667</td>\n",
       "      <td>-0.459109</td>\n",
       "      <td>-0.703466</td>\n",
       "    </tr>\n",
       "    <tr>\n",
       "      <th>Alcohol</th>\n",
       "      <td>-0.223558</td>\n",
       "      <td>1.000000</td>\n",
       "      <td>0.424267</td>\n",
       "      <td>0.345296</td>\n",
       "      <td>0.224153</td>\n",
       "      <td>0.245480</td>\n",
       "      <td>-0.053519</td>\n",
       "      <td>0.446676</td>\n",
       "      <td>-0.014811</td>\n",
       "      <td>0.573437</td>\n",
       "      <td>0.609049</td>\n",
       "      <td>0.437203</td>\n",
       "    </tr>\n",
       "    <tr>\n",
       "      <th>percentage_expenditure</th>\n",
       "      <td>-0.245146</td>\n",
       "      <td>0.424267</td>\n",
       "      <td>1.000000</td>\n",
       "      <td>0.220621</td>\n",
       "      <td>0.184878</td>\n",
       "      <td>0.138710</td>\n",
       "      <td>-0.100698</td>\n",
       "      <td>0.957695</td>\n",
       "      <td>-0.014819</td>\n",
       "      <td>0.403653</td>\n",
       "      <td>0.417577</td>\n",
       "      <td>0.408438</td>\n",
       "    </tr>\n",
       "    <tr>\n",
       "      <th>BMI</th>\n",
       "      <td>-0.373558</td>\n",
       "      <td>0.345296</td>\n",
       "      <td>0.220621</td>\n",
       "      <td>1.000000</td>\n",
       "      <td>0.188025</td>\n",
       "      <td>0.190955</td>\n",
       "      <td>-0.232770</td>\n",
       "      <td>0.238966</td>\n",
       "      <td>-0.061945</td>\n",
       "      <td>0.520061</td>\n",
       "      <td>0.549841</td>\n",
       "      <td>0.549065</td>\n",
       "    </tr>\n",
       "    <tr>\n",
       "      <th>Total_expenditure</th>\n",
       "      <td>-0.135219</td>\n",
       "      <td>0.224153</td>\n",
       "      <td>0.184878</td>\n",
       "      <td>0.188025</td>\n",
       "      <td>1.000000</td>\n",
       "      <td>0.154105</td>\n",
       "      <td>0.015136</td>\n",
       "      <td>0.184139</td>\n",
       "      <td>-0.068187</td>\n",
       "      <td>0.183759</td>\n",
       "      <td>0.246624</td>\n",
       "      <td>0.199058</td>\n",
       "    </tr>\n",
       "    <tr>\n",
       "      <th>Diphtheria</th>\n",
       "      <td>-0.218970</td>\n",
       "      <td>0.245480</td>\n",
       "      <td>0.138710</td>\n",
       "      <td>0.190955</td>\n",
       "      <td>0.154105</td>\n",
       "      <td>1.000000</td>\n",
       "      <td>-0.152190</td>\n",
       "      <td>0.161987</td>\n",
       "      <td>-0.016045</td>\n",
       "      <td>0.340664</td>\n",
       "      <td>0.357381</td>\n",
       "      <td>0.357720</td>\n",
       "    </tr>\n",
       "    <tr>\n",
       "      <th>HIV_AIDS</th>\n",
       "      <td>0.522985</td>\n",
       "      <td>-0.053519</td>\n",
       "      <td>-0.100698</td>\n",
       "      <td>-0.232770</td>\n",
       "      <td>0.015136</td>\n",
       "      <td>-0.152190</td>\n",
       "      <td>1.000000</td>\n",
       "      <td>-0.115119</td>\n",
       "      <td>-0.025374</td>\n",
       "      <td>-0.265902</td>\n",
       "      <td>-0.233620</td>\n",
       "      <td>-0.586847</td>\n",
       "    </tr>\n",
       "    <tr>\n",
       "      <th>GDP</th>\n",
       "      <td>-0.266263</td>\n",
       "      <td>0.446676</td>\n",
       "      <td>0.957695</td>\n",
       "      <td>0.238966</td>\n",
       "      <td>0.184139</td>\n",
       "      <td>0.161987</td>\n",
       "      <td>-0.115119</td>\n",
       "      <td>1.000000</td>\n",
       "      <td>-0.015751</td>\n",
       "      <td>0.448989</td>\n",
       "      <td>0.462840</td>\n",
       "      <td>0.440497</td>\n",
       "    </tr>\n",
       "    <tr>\n",
       "      <th>Population</th>\n",
       "      <td>-0.009659</td>\n",
       "      <td>-0.014811</td>\n",
       "      <td>-0.014819</td>\n",
       "      <td>-0.061945</td>\n",
       "      <td>-0.068187</td>\n",
       "      <td>-0.016045</td>\n",
       "      <td>-0.025374</td>\n",
       "      <td>-0.015751</td>\n",
       "      <td>1.000000</td>\n",
       "      <td>0.005623</td>\n",
       "      <td>-0.016738</td>\n",
       "      <td>-0.011133</td>\n",
       "    </tr>\n",
       "    <tr>\n",
       "      <th>Income_composition_of_resources</th>\n",
       "      <td>-0.479667</td>\n",
       "      <td>0.573437</td>\n",
       "      <td>0.403653</td>\n",
       "      <td>0.520061</td>\n",
       "      <td>0.183759</td>\n",
       "      <td>0.340664</td>\n",
       "      <td>-0.265902</td>\n",
       "      <td>0.448989</td>\n",
       "      <td>0.005623</td>\n",
       "      <td>1.000000</td>\n",
       "      <td>0.797657</td>\n",
       "      <td>0.741092</td>\n",
       "    </tr>\n",
       "    <tr>\n",
       "      <th>Schooling</th>\n",
       "      <td>-0.459109</td>\n",
       "      <td>0.609049</td>\n",
       "      <td>0.417577</td>\n",
       "      <td>0.549841</td>\n",
       "      <td>0.246624</td>\n",
       "      <td>0.357381</td>\n",
       "      <td>-0.233620</td>\n",
       "      <td>0.462840</td>\n",
       "      <td>-0.016738</td>\n",
       "      <td>0.797657</td>\n",
       "      <td>1.000000</td>\n",
       "      <td>0.746667</td>\n",
       "    </tr>\n",
       "    <tr>\n",
       "      <th>Life_expectancy</th>\n",
       "      <td>-0.703466</td>\n",
       "      <td>0.437203</td>\n",
       "      <td>0.408438</td>\n",
       "      <td>0.549065</td>\n",
       "      <td>0.199058</td>\n",
       "      <td>0.357720</td>\n",
       "      <td>-0.586847</td>\n",
       "      <td>0.440497</td>\n",
       "      <td>-0.011133</td>\n",
       "      <td>0.741092</td>\n",
       "      <td>0.746667</td>\n",
       "      <td>1.000000</td>\n",
       "    </tr>\n",
       "  </tbody>\n",
       "</table>\n",
       "</div>"
      ],
      "text/plain": [
       "                                 Adult_Mortality  ...  Life_expectancy\n",
       "Adult_Mortality                         1.000000  ...        -0.703466\n",
       "Alcohol                                -0.223558  ...         0.437203\n",
       "percentage_expenditure                 -0.245146  ...         0.408438\n",
       "BMI                                    -0.373558  ...         0.549065\n",
       "Total_expenditure                      -0.135219  ...         0.199058\n",
       "Diphtheria                             -0.218970  ...         0.357720\n",
       "HIV_AIDS                                0.522985  ...        -0.586847\n",
       "GDP                                    -0.266263  ...         0.440497\n",
       "Population                             -0.009659  ...        -0.011133\n",
       "Income_composition_of_resources        -0.479667  ...         0.741092\n",
       "Schooling                              -0.459109  ...         0.746667\n",
       "Life_expectancy                        -0.703466  ...         1.000000\n",
       "\n",
       "[12 rows x 12 columns]"
      ]
     },
     "execution_count": 7,
     "metadata": {},
     "output_type": "execute_result"
    }
   ],
   "source": [
    "### WRITE CODE TO OBTAIN CORRELATION MATRIX ###\n",
    "df.drop(columns=['Year', 'Status']).corr()"
   ]
  },
  {
   "cell_type": "markdown",
   "metadata": {
    "id": "8UpsTJyw97FZ"
   },
   "source": [
    "##### Answer the following questions:<br/>\n",
    "\n",
    "##### Q2. Why is the diagonal made up of 1's in the correlation matrix?<br/>\n",
    "The diagonals in the correlation matrix are correlating each variable to itself. In these cases we can expect a perfect correlation (i.e. 1).\n",
    "\n",
    "##### Q3. Why is the matrix symmetric along diagonal?<br/>\n",
    "Correlation measure the linear dependence between two variables and is a commutative property (i.e. Corr(X,Y) == Corr(Y,X)).\n",
    "\n",
    "##### Q4. Looking at the correlation matrix, if you have to choose one predictor for a simple linear regression model with Life_expectancy as the outcome, which one would you choose and why? <br/>\n",
    "We would choose the `Schooling` predictor as it has the highest correlation with our dependent variable `Life_expectancy`."
   ]
  },
  {
   "cell_type": "markdown",
   "metadata": {
    "id": "jYvGzY8Z-ni-"
   },
   "source": [
    "### Standardization of features"
   ]
  },
  {
   "cell_type": "markdown",
   "metadata": {
    "id": "Jhq-T3Ed-r8w"
   },
   "source": [
    "Feature standardization makes the values of each feature in the data have zero-mean and unit-variance. This method is widely used for normalization in many machine learning algorithms. The general method of calculation is to determine the distribution mean and standard deviation for each feature. Next we subtract the mean from each feature. Then we divide the values of each feature by its standard deviation.\n",
    "\n",
    "$x'$ = ($x$ - $\\bar{x}$)/$\\sigma$ \n",
    "\n",
    "where $x$ is the original feature vector,\n",
    "$\\bar{x}$ is the mean of the feature vector and\n",
    "$\\sigma$ is its standard deviation.\n",
    "\n",
    "This is also called Z-score Normalization. \n",
    "\n",
    "Perform Z-score Normalization on the features (except \"Year\" and \"Status\") in both training and test set. "
   ]
  },
  {
   "cell_type": "code",
   "execution_count": 7,
   "metadata": {
    "colab": {
     "base_uri": "https://localhost:8080/",
     "height": 72,
     "resources": {
      "http://localhost:8080/nbextensions/google.colab/files.js": {
       "data": "Ly8gQ29weXJpZ2h0IDIwMTcgR29vZ2xlIExMQwovLwovLyBMaWNlbnNlZCB1bmRlciB0aGUgQXBhY2hlIExpY2Vuc2UsIFZlcnNpb24gMi4wICh0aGUgIkxpY2Vuc2UiKTsKLy8geW91IG1heSBub3QgdXNlIHRoaXMgZmlsZSBleGNlcHQgaW4gY29tcGxpYW5jZSB3aXRoIHRoZSBMaWNlbnNlLgovLyBZb3UgbWF5IG9idGFpbiBhIGNvcHkgb2YgdGhlIExpY2Vuc2UgYXQKLy8KLy8gICAgICBodHRwOi8vd3d3LmFwYWNoZS5vcmcvbGljZW5zZXMvTElDRU5TRS0yLjAKLy8KLy8gVW5sZXNzIHJlcXVpcmVkIGJ5IGFwcGxpY2FibGUgbGF3IG9yIGFncmVlZCB0byBpbiB3cml0aW5nLCBzb2Z0d2FyZQovLyBkaXN0cmlidXRlZCB1bmRlciB0aGUgTGljZW5zZSBpcyBkaXN0cmlidXRlZCBvbiBhbiAiQVMgSVMiIEJBU0lTLAovLyBXSVRIT1VUIFdBUlJBTlRJRVMgT1IgQ09ORElUSU9OUyBPRiBBTlkgS0lORCwgZWl0aGVyIGV4cHJlc3Mgb3IgaW1wbGllZC4KLy8gU2VlIHRoZSBMaWNlbnNlIGZvciB0aGUgc3BlY2lmaWMgbGFuZ3VhZ2UgZ292ZXJuaW5nIHBlcm1pc3Npb25zIGFuZAovLyBsaW1pdGF0aW9ucyB1bmRlciB0aGUgTGljZW5zZS4KCi8qKgogKiBAZmlsZW92ZXJ2aWV3IEhlbHBlcnMgZm9yIGdvb2dsZS5jb2xhYiBQeXRob24gbW9kdWxlLgogKi8KKGZ1bmN0aW9uKHNjb3BlKSB7CmZ1bmN0aW9uIHNwYW4odGV4dCwgc3R5bGVBdHRyaWJ1dGVzID0ge30pIHsKICBjb25zdCBlbGVtZW50ID0gZG9jdW1lbnQuY3JlYXRlRWxlbWVudCgnc3BhbicpOwogIGVsZW1lbnQudGV4dENvbnRlbnQgPSB0ZXh0OwogIGZvciAoY29uc3Qga2V5IG9mIE9iamVjdC5rZXlzKHN0eWxlQXR0cmlidXRlcykpIHsKICAgIGVsZW1lbnQuc3R5bGVba2V5XSA9IHN0eWxlQXR0cmlidXRlc1trZXldOwogIH0KICByZXR1cm4gZWxlbWVudDsKfQoKLy8gTWF4IG51bWJlciBvZiBieXRlcyB3aGljaCB3aWxsIGJlIHVwbG9hZGVkIGF0IGEgdGltZS4KY29uc3QgTUFYX1BBWUxPQURfU0laRSA9IDEwMCAqIDEwMjQ7CgpmdW5jdGlvbiBfdXBsb2FkRmlsZXMoaW5wdXRJZCwgb3V0cHV0SWQpIHsKICBjb25zdCBzdGVwcyA9IHVwbG9hZEZpbGVzU3RlcChpbnB1dElkLCBvdXRwdXRJZCk7CiAgY29uc3Qgb3V0cHV0RWxlbWVudCA9IGRvY3VtZW50LmdldEVsZW1lbnRCeUlkKG91dHB1dElkKTsKICAvLyBDYWNoZSBzdGVwcyBvbiB0aGUgb3V0cHV0RWxlbWVudCB0byBtYWtlIGl0IGF2YWlsYWJsZSBmb3IgdGhlIG5leHQgY2FsbAogIC8vIHRvIHVwbG9hZEZpbGVzQ29udGludWUgZnJvbSBQeXRob24uCiAgb3V0cHV0RWxlbWVudC5zdGVwcyA9IHN0ZXBzOwoKICByZXR1cm4gX3VwbG9hZEZpbGVzQ29udGludWUob3V0cHV0SWQpOwp9CgovLyBUaGlzIGlzIHJvdWdobHkgYW4gYXN5bmMgZ2VuZXJhdG9yIChub3Qgc3VwcG9ydGVkIGluIHRoZSBicm93c2VyIHlldCksCi8vIHdoZXJlIHRoZXJlIGFyZSBtdWx0aXBsZSBhc3luY2hyb25vdXMgc3RlcHMgYW5kIHRoZSBQeXRob24gc2lkZSBpcyBnb2luZwovLyB0byBwb2xsIGZvciBjb21wbGV0aW9uIG9mIGVhY2ggc3RlcC4KLy8gVGhpcyB1c2VzIGEgUHJvbWlzZSB0byBibG9jayB0aGUgcHl0aG9uIHNpZGUgb24gY29tcGxldGlvbiBvZiBlYWNoIHN0ZXAsCi8vIHRoZW4gcGFzc2VzIHRoZSByZXN1bHQgb2YgdGhlIHByZXZpb3VzIHN0ZXAgYXMgdGhlIGlucHV0IHRvIHRoZSBuZXh0IHN0ZXAuCmZ1bmN0aW9uIF91cGxvYWRGaWxlc0NvbnRpbnVlKG91dHB1dElkKSB7CiAgY29uc3Qgb3V0cHV0RWxlbWVudCA9IGRvY3VtZW50LmdldEVsZW1lbnRCeUlkKG91dHB1dElkKTsKICBjb25zdCBzdGVwcyA9IG91dHB1dEVsZW1lbnQuc3RlcHM7CgogIGNvbnN0IG5leHQgPSBzdGVwcy5uZXh0KG91dHB1dEVsZW1lbnQubGFzdFByb21pc2VWYWx1ZSk7CiAgcmV0dXJuIFByb21pc2UucmVzb2x2ZShuZXh0LnZhbHVlLnByb21pc2UpLnRoZW4oKHZhbHVlKSA9PiB7CiAgICAvLyBDYWNoZSB0aGUgbGFzdCBwcm9taXNlIHZhbHVlIHRvIG1ha2UgaXQgYXZhaWxhYmxlIHRvIHRoZSBuZXh0CiAgICAvLyBzdGVwIG9mIHRoZSBnZW5lcmF0b3IuCiAgICBvdXRwdXRFbGVtZW50Lmxhc3RQcm9taXNlVmFsdWUgPSB2YWx1ZTsKICAgIHJldHVybiBuZXh0LnZhbHVlLnJlc3BvbnNlOwogIH0pOwp9CgovKioKICogR2VuZXJhdG9yIGZ1bmN0aW9uIHdoaWNoIGlzIGNhbGxlZCBiZXR3ZWVuIGVhY2ggYXN5bmMgc3RlcCBvZiB0aGUgdXBsb2FkCiAqIHByb2Nlc3MuCiAqIEBwYXJhbSB7c3RyaW5nfSBpbnB1dElkIEVsZW1lbnQgSUQgb2YgdGhlIGlucHV0IGZpbGUgcGlja2VyIGVsZW1lbnQuCiAqIEBwYXJhbSB7c3RyaW5nfSBvdXRwdXRJZCBFbGVtZW50IElEIG9mIHRoZSBvdXRwdXQgZGlzcGxheS4KICogQHJldHVybiB7IUl0ZXJhYmxlPCFPYmplY3Q+fSBJdGVyYWJsZSBvZiBuZXh0IHN0ZXBzLgogKi8KZnVuY3Rpb24qIHVwbG9hZEZpbGVzU3RlcChpbnB1dElkLCBvdXRwdXRJZCkgewogIGNvbnN0IGlucHV0RWxlbWVudCA9IGRvY3VtZW50LmdldEVsZW1lbnRCeUlkKGlucHV0SWQpOwogIGlucHV0RWxlbWVudC5kaXNhYmxlZCA9IGZhbHNlOwoKICBjb25zdCBvdXRwdXRFbGVtZW50ID0gZG9jdW1lbnQuZ2V0RWxlbWVudEJ5SWQob3V0cHV0SWQpOwogIG91dHB1dEVsZW1lbnQuaW5uZXJIVE1MID0gJyc7CgogIGNvbnN0IHBpY2tlZFByb21pc2UgPSBuZXcgUHJvbWlzZSgocmVzb2x2ZSkgPT4gewogICAgaW5wdXRFbGVtZW50LmFkZEV2ZW50TGlzdGVuZXIoJ2NoYW5nZScsIChlKSA9PiB7CiAgICAgIHJlc29sdmUoZS50YXJnZXQuZmlsZXMpOwogICAgfSk7CiAgfSk7CgogIGNvbnN0IGNhbmNlbCA9IGRvY3VtZW50LmNyZWF0ZUVsZW1lbnQoJ2J1dHRvbicpOwogIGlucHV0RWxlbWVudC5wYXJlbnRFbGVtZW50LmFwcGVuZENoaWxkKGNhbmNlbCk7CiAgY2FuY2VsLnRleHRDb250ZW50ID0gJ0NhbmNlbCB1cGxvYWQnOwogIGNvbnN0IGNhbmNlbFByb21pc2UgPSBuZXcgUHJvbWlzZSgocmVzb2x2ZSkgPT4gewogICAgY2FuY2VsLm9uY2xpY2sgPSAoKSA9PiB7CiAgICAgIHJlc29sdmUobnVsbCk7CiAgICB9OwogIH0pOwoKICAvLyBXYWl0IGZvciB0aGUgdXNlciB0byBwaWNrIHRoZSBmaWxlcy4KICBjb25zdCBmaWxlcyA9IHlpZWxkIHsKICAgIHByb21pc2U6IFByb21pc2UucmFjZShbcGlja2VkUHJvbWlzZSwgY2FuY2VsUHJvbWlzZV0pLAogICAgcmVzcG9uc2U6IHsKICAgICAgYWN0aW9uOiAnc3RhcnRpbmcnLAogICAgfQogIH07CgogIGNhbmNlbC5yZW1vdmUoKTsKCiAgLy8gRGlzYWJsZSB0aGUgaW5wdXQgZWxlbWVudCBzaW5jZSBmdXJ0aGVyIHBpY2tzIGFyZSBub3QgYWxsb3dlZC4KICBpbnB1dEVsZW1lbnQuZGlzYWJsZWQgPSB0cnVlOwoKICBpZiAoIWZpbGVzKSB7CiAgICByZXR1cm4gewogICAgICByZXNwb25zZTogewogICAgICAgIGFjdGlvbjogJ2NvbXBsZXRlJywKICAgICAgfQogICAgfTsKICB9CgogIGZvciAoY29uc3QgZmlsZSBvZiBmaWxlcykgewogICAgY29uc3QgbGkgPSBkb2N1bWVudC5jcmVhdGVFbGVtZW50KCdsaScpOwogICAgbGkuYXBwZW5kKHNwYW4oZmlsZS5uYW1lLCB7Zm9udFdlaWdodDogJ2JvbGQnfSkpOwogICAgbGkuYXBwZW5kKHNwYW4oCiAgICAgICAgYCgke2ZpbGUudHlwZSB8fCAnbi9hJ30pIC0gJHtmaWxlLnNpemV9IGJ5dGVzLCBgICsKICAgICAgICBgbGFzdCBtb2RpZmllZDogJHsKICAgICAgICAgICAgZmlsZS5sYXN0TW9kaWZpZWREYXRlID8gZmlsZS5sYXN0TW9kaWZpZWREYXRlLnRvTG9jYWxlRGF0ZVN0cmluZygpIDoKICAgICAgICAgICAgICAgICAgICAgICAgICAgICAgICAgICAgJ24vYSd9IC0gYCkpOwogICAgY29uc3QgcGVyY2VudCA9IHNwYW4oJzAlIGRvbmUnKTsKICAgIGxpLmFwcGVuZENoaWxkKHBlcmNlbnQpOwoKICAgIG91dHB1dEVsZW1lbnQuYXBwZW5kQ2hpbGQobGkpOwoKICAgIGNvbnN0IGZpbGVEYXRhUHJvbWlzZSA9IG5ldyBQcm9taXNlKChyZXNvbHZlKSA9PiB7CiAgICAgIGNvbnN0IHJlYWRlciA9IG5ldyBGaWxlUmVhZGVyKCk7CiAgICAgIHJlYWRlci5vbmxvYWQgPSAoZSkgPT4gewogICAgICAgIHJlc29sdmUoZS50YXJnZXQucmVzdWx0KTsKICAgICAgfTsKICAgICAgcmVhZGVyLnJlYWRBc0FycmF5QnVmZmVyKGZpbGUpOwogICAgfSk7CiAgICAvLyBXYWl0IGZvciB0aGUgZGF0YSB0byBiZSByZWFkeS4KICAgIGxldCBmaWxlRGF0YSA9IHlpZWxkIHsKICAgICAgcHJvbWlzZTogZmlsZURhdGFQcm9taXNlLAogICAgICByZXNwb25zZTogewogICAgICAgIGFjdGlvbjogJ2NvbnRpbnVlJywKICAgICAgfQogICAgfTsKCiAgICAvLyBVc2UgYSBjaHVua2VkIHNlbmRpbmcgdG8gYXZvaWQgbWVzc2FnZSBzaXplIGxpbWl0cy4gU2VlIGIvNjIxMTU2NjAuCiAgICBsZXQgcG9zaXRpb24gPSAwOwogICAgZG8gewogICAgICBjb25zdCBsZW5ndGggPSBNYXRoLm1pbihmaWxlRGF0YS5ieXRlTGVuZ3RoIC0gcG9zaXRpb24sIE1BWF9QQVlMT0FEX1NJWkUpOwogICAgICBjb25zdCBjaHVuayA9IG5ldyBVaW50OEFycmF5KGZpbGVEYXRhLCBwb3NpdGlvbiwgbGVuZ3RoKTsKICAgICAgcG9zaXRpb24gKz0gbGVuZ3RoOwoKICAgICAgY29uc3QgYmFzZTY0ID0gYnRvYShTdHJpbmcuZnJvbUNoYXJDb2RlLmFwcGx5KG51bGwsIGNodW5rKSk7CiAgICAgIHlpZWxkIHsKICAgICAgICByZXNwb25zZTogewogICAgICAgICAgYWN0aW9uOiAnYXBwZW5kJywKICAgICAgICAgIGZpbGU6IGZpbGUubmFtZSwKICAgICAgICAgIGRhdGE6IGJhc2U2NCwKICAgICAgICB9LAogICAgICB9OwoKICAgICAgbGV0IHBlcmNlbnREb25lID0gZmlsZURhdGEuYnl0ZUxlbmd0aCA9PT0gMCA/CiAgICAgICAgICAxMDAgOgogICAgICAgICAgTWF0aC5yb3VuZCgocG9zaXRpb24gLyBmaWxlRGF0YS5ieXRlTGVuZ3RoKSAqIDEwMCk7CiAgICAgIHBlcmNlbnQudGV4dENvbnRlbnQgPSBgJHtwZXJjZW50RG9uZX0lIGRvbmVgOwoKICAgIH0gd2hpbGUgKHBvc2l0aW9uIDwgZmlsZURhdGEuYnl0ZUxlbmd0aCk7CiAgfQoKICAvLyBBbGwgZG9uZS4KICB5aWVsZCB7CiAgICByZXNwb25zZTogewogICAgICBhY3Rpb246ICdjb21wbGV0ZScsCiAgICB9CiAgfTsKfQoKc2NvcGUuZ29vZ2xlID0gc2NvcGUuZ29vZ2xlIHx8IHt9OwpzY29wZS5nb29nbGUuY29sYWIgPSBzY29wZS5nb29nbGUuY29sYWIgfHwge307CnNjb3BlLmdvb2dsZS5jb2xhYi5fZmlsZXMgPSB7CiAgX3VwbG9hZEZpbGVzLAogIF91cGxvYWRGaWxlc0NvbnRpbnVlLAp9Owp9KShzZWxmKTsK",
       "headers": [
        [
         "content-type",
         "application/javascript"
        ]
       ],
       "ok": true,
       "status": 200,
       "status_text": ""
      }
     }
    },
    "id": "iD2UmlarDHY_",
    "outputId": "c3814c9d-feb5-47a1-835d-e040721c4a35"
   },
   "outputs": [
    {
     "data": {
      "text/html": [
       "\n",
       "     <input type=\"file\" id=\"files-da418b61-a629-4d12-924e-917fa5db3440\" name=\"files[]\" multiple disabled\n",
       "        style=\"border:none\" />\n",
       "     <output id=\"result-da418b61-a629-4d12-924e-917fa5db3440\">\n",
       "      Upload widget is only available when the cell has been executed in the\n",
       "      current browser session. Please rerun this cell to enable.\n",
       "      </output>\n",
       "      <script src=\"/nbextensions/google.colab/files.js\"></script> "
      ],
      "text/plain": [
       "<IPython.core.display.HTML object>"
      ]
     },
     "metadata": {},
     "output_type": "display_data"
    },
    {
     "name": "stdout",
     "output_type": "stream",
     "text": [
      "Saving LifeExpectancy_test.csv to LifeExpectancy_test.csv\n"
     ]
    }
   ],
   "source": [
    "#upload test set\n",
    "uploaded = files.upload()"
   ]
  },
  {
   "cell_type": "code",
   "execution_count": 8,
   "metadata": {
    "id": "B0bEEUdhDbW5"
   },
   "outputs": [],
   "source": [
    "dft = pd.read_csv(io.BytesIO(uploaded['LifeExpectancy_test.csv']))"
   ]
  },
  {
   "cell_type": "code",
   "execution_count": 9,
   "metadata": {
    "id": "a8Hu-t4eBphh"
   },
   "outputs": [],
   "source": [
    "from sklearn.preprocessing import StandardScaler\n",
    "### WRITE CODE TO PERFORM Z-score Normalization ###\n",
    "X = df.loc[:, df.columns != 'Life_expectancy'].copy()"
   ]
  },
  {
   "cell_type": "code",
   "execution_count": 10,
   "metadata": {
    "colab": {
     "base_uri": "https://localhost:8080/"
    },
    "id": "nObd2T_9EH4p",
    "outputId": "ae1f706e-2622-49dd-fbda-e57bc8888cdf"
   },
   "outputs": [
    {
     "data": {
      "text/plain": [
       "StandardScaler(copy=True, with_mean=True, with_std=True)"
      ]
     },
     "execution_count": 10,
     "metadata": {},
     "output_type": "execute_result"
    }
   ],
   "source": [
    "scaler = StandardScaler()\n",
    "scaler.fit(X.drop(columns=['Year', 'Status'])) #numpy.ndarray"
   ]
  },
  {
   "cell_type": "code",
   "execution_count": 11,
   "metadata": {
    "id": "WdE_RodFEmcB"
   },
   "outputs": [],
   "source": [
    "X_numeric_training = scaler.transform(X.drop(columns=['Year', 'Status']))\n",
    "X_numeric_test = scaler.transform(dft.drop(columns=['Year', 'Status']))"
   ]
  },
  {
   "cell_type": "markdown",
   "metadata": {
    "id": "zwfacAsAFBbs"
   },
   "source": [
    "##### Q5. What are the advantages and disadvantages of using Z-score Normalization?<br/>\n",
    "* Advantages: It is useful when features have different ranges. It reduces the influence of magnitude.\n",
    "* Disadvantages: Assumes a normal distribution.\n",
    "\n",
    "##### Q6. In this dataset, do you need to use the Z-score Normalization? Explain.<br/>\n",
    "* z-score normalization is very useful as the continuous features have different ranges.\n",
    "* z-score normalization may not be very useful as the continuous features have similar ranges. \n",
    "* A normalization technique should be used. In our dataset, variables such as Life_expectancy, Adult_mortality, and BMI are on very different scales. If we neglect to scale the data before using it in ML algorithms, algorithms who use distance will disproportionally affect features with a broad range of values."
   ]
  },
  {
   "cell_type": "markdown",
   "metadata": {
    "id": "5tr1XcvyFIcN"
   },
   "source": [
    "### One-Hot Encoding"
   ]
  },
  {
   "cell_type": "markdown",
   "metadata": {
    "id": "fyyGwM3JFS4Y"
   },
   "source": [
    "\"Year\" and \"Status\" can only take discrete values. We need to perform one-hot encoding on discrete values for it to be processed in the model. One hot encoding is a process by which categorical variables are converted into a form that could be provided to ML algorithms to do a better job in prediction.\n",
    "Perform one-hot encoding on \"Year\" and \"Status\" and print the shape of your encoded array"
   ]
  },
  {
   "cell_type": "code",
   "execution_count": 12,
   "metadata": {
    "colab": {
     "base_uri": "https://localhost:8080/"
    },
    "id": "CVbI2IVxFuHn",
    "outputId": "997586d3-fd1d-4e8a-be08-ea20bcb6d591"
   },
   "outputs": [
    {
     "data": {
      "text/plain": [
       "OneHotEncoder(categories='auto', drop=array(['Developed'], dtype=object),\n",
       "              dtype=<class 'numpy.float64'>, handle_unknown='error',\n",
       "              sparse=False)"
      ]
     },
     "execution_count": 12,
     "metadata": {},
     "output_type": "execute_result"
    }
   ],
   "source": [
    "from sklearn.preprocessing import OneHotEncoder\n",
    "### WRITE CODE TO PERFORM ONE-HOT CODING ON \"Year\" AND \"Status\" ###\n",
    "enc_Year = OneHotEncoder(sparse=False, drop=[2000])\n",
    "enc_Year.fit(X[['Year']]) \n",
    "\n",
    "enc_Status = OneHotEncoder(sparse=False, drop=['Developed'])\n",
    "enc_Status.fit(X[['Status']])"
   ]
  },
  {
   "cell_type": "code",
   "execution_count": 13,
   "metadata": {
    "id": "QbFVnHzEF6yU"
   },
   "outputs": [],
   "source": [
    "X_onhot_Year_training = enc_Year.transform(X[['Year']]) #numpy.ndarray\n",
    "X_onhot_Year_test = enc_Year.transform(dft[['Year']]) \n",
    "X_onhot_Status_training = enc_Status.transform(X[['Status']])\n",
    "X_onhot_Status_test = enc_Status.transform(dft[['Status']])"
   ]
  },
  {
   "cell_type": "code",
   "execution_count": 14,
   "metadata": {
    "colab": {
     "base_uri": "https://localhost:8080/"
    },
    "id": "az6tGPhOHZaX",
    "outputId": "0c4cf19c-6fae-4d6a-9265-583e25ccac6c"
   },
   "outputs": [
    {
     "data": {
      "text/plain": [
       "(1154, 27)"
      ]
     },
     "execution_count": 14,
     "metadata": {},
     "output_type": "execute_result"
    }
   ],
   "source": [
    "X_train = np.concatenate([X_numeric_training, X_onhot_Year_training, X_onhot_Status_training], axis=1) #numpy.ndarray\n",
    "X_test = np.concatenate([X_numeric_test, X_onhot_Year_test, X_onhot_Status_test], axis=1)  #numpy.ndarray\n",
    "y_train = df[\"Life_expectancy\"] #numpy.ndarray\n",
    "### PRINT THE SHAPE OF YOUR TRAINING SET X ###\n",
    "X_train.shape"
   ]
  },
  {
   "cell_type": "markdown",
   "metadata": {
    "id": "IvbDqp5bJ-Xx"
   },
   "source": [
    "Q7. What are the advantages and disadvantages of using One-hot encoding?\n",
    "\n",
    "* Advantages: One-hot encoding ensures that machine learning does not assume that higher numbers are more important.\n",
    "* Disadvantages: For high cardinality, the feature space can really grow up quickly"
   ]
  },
  {
   "cell_type": "markdown",
   "metadata": {
    "id": "Fp5S0WizKI0g"
   },
   "source": [
    "## Multiple Linear Regression\n",
    "\n",
    "In the big data era, it is highly unlikely that we are interested in the effect of a single variable on another. To simultaneously account for the effects of multiple variables, we use multiple regression (which accounts for the covariances between predictors).\n",
    "\n",
    "While the algorithmic solution to multiple regression exists, it is easier to conceptualize in terms of linear algebra. The optimal $\\hat{\\beta}$ vector that minimizes the residual sum of squares is:\n",
    "\n",
    "$\\hat{\\beta} = (X^TX)^{-1}X^Ty $\n",
    "\n",
    "\n",
    "Perform multiple linear regression on the training dataset, where the outcome is \"Life_expectancy\"."
   ]
  },
  {
   "cell_type": "code",
   "execution_count": 15,
   "metadata": {
    "id": "3-saM1rTKjKH"
   },
   "outputs": [],
   "source": [
    "from sklearn.linear_model import LinearRegression"
   ]
  },
  {
   "cell_type": "code",
   "execution_count": 16,
   "metadata": {
    "id": "GTfbR3b-KoeW"
   },
   "outputs": [],
   "source": [
    "### Fit the Multiple Linear Regression model on training set ###\n",
    "lr_model = LinearRegression() \n",
    "lr_model.fit(X_train, y_train) \n",
    "\n",
    "y_pred_train = lr_model.predict(X_train)\n",
    "y_pred_test = lr_model.predict(X_test)"
   ]
  },
  {
   "cell_type": "code",
   "execution_count": 17,
   "metadata": {
    "colab": {
     "base_uri": "https://localhost:8080/",
     "height": 72,
     "resources": {
      "http://localhost:8080/nbextensions/google.colab/files.js": {
       "data": "Ly8gQ29weXJpZ2h0IDIwMTcgR29vZ2xlIExMQwovLwovLyBMaWNlbnNlZCB1bmRlciB0aGUgQXBhY2hlIExpY2Vuc2UsIFZlcnNpb24gMi4wICh0aGUgIkxpY2Vuc2UiKTsKLy8geW91IG1heSBub3QgdXNlIHRoaXMgZmlsZSBleGNlcHQgaW4gY29tcGxpYW5jZSB3aXRoIHRoZSBMaWNlbnNlLgovLyBZb3UgbWF5IG9idGFpbiBhIGNvcHkgb2YgdGhlIExpY2Vuc2UgYXQKLy8KLy8gICAgICBodHRwOi8vd3d3LmFwYWNoZS5vcmcvbGljZW5zZXMvTElDRU5TRS0yLjAKLy8KLy8gVW5sZXNzIHJlcXVpcmVkIGJ5IGFwcGxpY2FibGUgbGF3IG9yIGFncmVlZCB0byBpbiB3cml0aW5nLCBzb2Z0d2FyZQovLyBkaXN0cmlidXRlZCB1bmRlciB0aGUgTGljZW5zZSBpcyBkaXN0cmlidXRlZCBvbiBhbiAiQVMgSVMiIEJBU0lTLAovLyBXSVRIT1VUIFdBUlJBTlRJRVMgT1IgQ09ORElUSU9OUyBPRiBBTlkgS0lORCwgZWl0aGVyIGV4cHJlc3Mgb3IgaW1wbGllZC4KLy8gU2VlIHRoZSBMaWNlbnNlIGZvciB0aGUgc3BlY2lmaWMgbGFuZ3VhZ2UgZ292ZXJuaW5nIHBlcm1pc3Npb25zIGFuZAovLyBsaW1pdGF0aW9ucyB1bmRlciB0aGUgTGljZW5zZS4KCi8qKgogKiBAZmlsZW92ZXJ2aWV3IEhlbHBlcnMgZm9yIGdvb2dsZS5jb2xhYiBQeXRob24gbW9kdWxlLgogKi8KKGZ1bmN0aW9uKHNjb3BlKSB7CmZ1bmN0aW9uIHNwYW4odGV4dCwgc3R5bGVBdHRyaWJ1dGVzID0ge30pIHsKICBjb25zdCBlbGVtZW50ID0gZG9jdW1lbnQuY3JlYXRlRWxlbWVudCgnc3BhbicpOwogIGVsZW1lbnQudGV4dENvbnRlbnQgPSB0ZXh0OwogIGZvciAoY29uc3Qga2V5IG9mIE9iamVjdC5rZXlzKHN0eWxlQXR0cmlidXRlcykpIHsKICAgIGVsZW1lbnQuc3R5bGVba2V5XSA9IHN0eWxlQXR0cmlidXRlc1trZXldOwogIH0KICByZXR1cm4gZWxlbWVudDsKfQoKLy8gTWF4IG51bWJlciBvZiBieXRlcyB3aGljaCB3aWxsIGJlIHVwbG9hZGVkIGF0IGEgdGltZS4KY29uc3QgTUFYX1BBWUxPQURfU0laRSA9IDEwMCAqIDEwMjQ7CgpmdW5jdGlvbiBfdXBsb2FkRmlsZXMoaW5wdXRJZCwgb3V0cHV0SWQpIHsKICBjb25zdCBzdGVwcyA9IHVwbG9hZEZpbGVzU3RlcChpbnB1dElkLCBvdXRwdXRJZCk7CiAgY29uc3Qgb3V0cHV0RWxlbWVudCA9IGRvY3VtZW50LmdldEVsZW1lbnRCeUlkKG91dHB1dElkKTsKICAvLyBDYWNoZSBzdGVwcyBvbiB0aGUgb3V0cHV0RWxlbWVudCB0byBtYWtlIGl0IGF2YWlsYWJsZSBmb3IgdGhlIG5leHQgY2FsbAogIC8vIHRvIHVwbG9hZEZpbGVzQ29udGludWUgZnJvbSBQeXRob24uCiAgb3V0cHV0RWxlbWVudC5zdGVwcyA9IHN0ZXBzOwoKICByZXR1cm4gX3VwbG9hZEZpbGVzQ29udGludWUob3V0cHV0SWQpOwp9CgovLyBUaGlzIGlzIHJvdWdobHkgYW4gYXN5bmMgZ2VuZXJhdG9yIChub3Qgc3VwcG9ydGVkIGluIHRoZSBicm93c2VyIHlldCksCi8vIHdoZXJlIHRoZXJlIGFyZSBtdWx0aXBsZSBhc3luY2hyb25vdXMgc3RlcHMgYW5kIHRoZSBQeXRob24gc2lkZSBpcyBnb2luZwovLyB0byBwb2xsIGZvciBjb21wbGV0aW9uIG9mIGVhY2ggc3RlcC4KLy8gVGhpcyB1c2VzIGEgUHJvbWlzZSB0byBibG9jayB0aGUgcHl0aG9uIHNpZGUgb24gY29tcGxldGlvbiBvZiBlYWNoIHN0ZXAsCi8vIHRoZW4gcGFzc2VzIHRoZSByZXN1bHQgb2YgdGhlIHByZXZpb3VzIHN0ZXAgYXMgdGhlIGlucHV0IHRvIHRoZSBuZXh0IHN0ZXAuCmZ1bmN0aW9uIF91cGxvYWRGaWxlc0NvbnRpbnVlKG91dHB1dElkKSB7CiAgY29uc3Qgb3V0cHV0RWxlbWVudCA9IGRvY3VtZW50LmdldEVsZW1lbnRCeUlkKG91dHB1dElkKTsKICBjb25zdCBzdGVwcyA9IG91dHB1dEVsZW1lbnQuc3RlcHM7CgogIGNvbnN0IG5leHQgPSBzdGVwcy5uZXh0KG91dHB1dEVsZW1lbnQubGFzdFByb21pc2VWYWx1ZSk7CiAgcmV0dXJuIFByb21pc2UucmVzb2x2ZShuZXh0LnZhbHVlLnByb21pc2UpLnRoZW4oKHZhbHVlKSA9PiB7CiAgICAvLyBDYWNoZSB0aGUgbGFzdCBwcm9taXNlIHZhbHVlIHRvIG1ha2UgaXQgYXZhaWxhYmxlIHRvIHRoZSBuZXh0CiAgICAvLyBzdGVwIG9mIHRoZSBnZW5lcmF0b3IuCiAgICBvdXRwdXRFbGVtZW50Lmxhc3RQcm9taXNlVmFsdWUgPSB2YWx1ZTsKICAgIHJldHVybiBuZXh0LnZhbHVlLnJlc3BvbnNlOwogIH0pOwp9CgovKioKICogR2VuZXJhdG9yIGZ1bmN0aW9uIHdoaWNoIGlzIGNhbGxlZCBiZXR3ZWVuIGVhY2ggYXN5bmMgc3RlcCBvZiB0aGUgdXBsb2FkCiAqIHByb2Nlc3MuCiAqIEBwYXJhbSB7c3RyaW5nfSBpbnB1dElkIEVsZW1lbnQgSUQgb2YgdGhlIGlucHV0IGZpbGUgcGlja2VyIGVsZW1lbnQuCiAqIEBwYXJhbSB7c3RyaW5nfSBvdXRwdXRJZCBFbGVtZW50IElEIG9mIHRoZSBvdXRwdXQgZGlzcGxheS4KICogQHJldHVybiB7IUl0ZXJhYmxlPCFPYmplY3Q+fSBJdGVyYWJsZSBvZiBuZXh0IHN0ZXBzLgogKi8KZnVuY3Rpb24qIHVwbG9hZEZpbGVzU3RlcChpbnB1dElkLCBvdXRwdXRJZCkgewogIGNvbnN0IGlucHV0RWxlbWVudCA9IGRvY3VtZW50LmdldEVsZW1lbnRCeUlkKGlucHV0SWQpOwogIGlucHV0RWxlbWVudC5kaXNhYmxlZCA9IGZhbHNlOwoKICBjb25zdCBvdXRwdXRFbGVtZW50ID0gZG9jdW1lbnQuZ2V0RWxlbWVudEJ5SWQob3V0cHV0SWQpOwogIG91dHB1dEVsZW1lbnQuaW5uZXJIVE1MID0gJyc7CgogIGNvbnN0IHBpY2tlZFByb21pc2UgPSBuZXcgUHJvbWlzZSgocmVzb2x2ZSkgPT4gewogICAgaW5wdXRFbGVtZW50LmFkZEV2ZW50TGlzdGVuZXIoJ2NoYW5nZScsIChlKSA9PiB7CiAgICAgIHJlc29sdmUoZS50YXJnZXQuZmlsZXMpOwogICAgfSk7CiAgfSk7CgogIGNvbnN0IGNhbmNlbCA9IGRvY3VtZW50LmNyZWF0ZUVsZW1lbnQoJ2J1dHRvbicpOwogIGlucHV0RWxlbWVudC5wYXJlbnRFbGVtZW50LmFwcGVuZENoaWxkKGNhbmNlbCk7CiAgY2FuY2VsLnRleHRDb250ZW50ID0gJ0NhbmNlbCB1cGxvYWQnOwogIGNvbnN0IGNhbmNlbFByb21pc2UgPSBuZXcgUHJvbWlzZSgocmVzb2x2ZSkgPT4gewogICAgY2FuY2VsLm9uY2xpY2sgPSAoKSA9PiB7CiAgICAgIHJlc29sdmUobnVsbCk7CiAgICB9OwogIH0pOwoKICAvLyBXYWl0IGZvciB0aGUgdXNlciB0byBwaWNrIHRoZSBmaWxlcy4KICBjb25zdCBmaWxlcyA9IHlpZWxkIHsKICAgIHByb21pc2U6IFByb21pc2UucmFjZShbcGlja2VkUHJvbWlzZSwgY2FuY2VsUHJvbWlzZV0pLAogICAgcmVzcG9uc2U6IHsKICAgICAgYWN0aW9uOiAnc3RhcnRpbmcnLAogICAgfQogIH07CgogIGNhbmNlbC5yZW1vdmUoKTsKCiAgLy8gRGlzYWJsZSB0aGUgaW5wdXQgZWxlbWVudCBzaW5jZSBmdXJ0aGVyIHBpY2tzIGFyZSBub3QgYWxsb3dlZC4KICBpbnB1dEVsZW1lbnQuZGlzYWJsZWQgPSB0cnVlOwoKICBpZiAoIWZpbGVzKSB7CiAgICByZXR1cm4gewogICAgICByZXNwb25zZTogewogICAgICAgIGFjdGlvbjogJ2NvbXBsZXRlJywKICAgICAgfQogICAgfTsKICB9CgogIGZvciAoY29uc3QgZmlsZSBvZiBmaWxlcykgewogICAgY29uc3QgbGkgPSBkb2N1bWVudC5jcmVhdGVFbGVtZW50KCdsaScpOwogICAgbGkuYXBwZW5kKHNwYW4oZmlsZS5uYW1lLCB7Zm9udFdlaWdodDogJ2JvbGQnfSkpOwogICAgbGkuYXBwZW5kKHNwYW4oCiAgICAgICAgYCgke2ZpbGUudHlwZSB8fCAnbi9hJ30pIC0gJHtmaWxlLnNpemV9IGJ5dGVzLCBgICsKICAgICAgICBgbGFzdCBtb2RpZmllZDogJHsKICAgICAgICAgICAgZmlsZS5sYXN0TW9kaWZpZWREYXRlID8gZmlsZS5sYXN0TW9kaWZpZWREYXRlLnRvTG9jYWxlRGF0ZVN0cmluZygpIDoKICAgICAgICAgICAgICAgICAgICAgICAgICAgICAgICAgICAgJ24vYSd9IC0gYCkpOwogICAgY29uc3QgcGVyY2VudCA9IHNwYW4oJzAlIGRvbmUnKTsKICAgIGxpLmFwcGVuZENoaWxkKHBlcmNlbnQpOwoKICAgIG91dHB1dEVsZW1lbnQuYXBwZW5kQ2hpbGQobGkpOwoKICAgIGNvbnN0IGZpbGVEYXRhUHJvbWlzZSA9IG5ldyBQcm9taXNlKChyZXNvbHZlKSA9PiB7CiAgICAgIGNvbnN0IHJlYWRlciA9IG5ldyBGaWxlUmVhZGVyKCk7CiAgICAgIHJlYWRlci5vbmxvYWQgPSAoZSkgPT4gewogICAgICAgIHJlc29sdmUoZS50YXJnZXQucmVzdWx0KTsKICAgICAgfTsKICAgICAgcmVhZGVyLnJlYWRBc0FycmF5QnVmZmVyKGZpbGUpOwogICAgfSk7CiAgICAvLyBXYWl0IGZvciB0aGUgZGF0YSB0byBiZSByZWFkeS4KICAgIGxldCBmaWxlRGF0YSA9IHlpZWxkIHsKICAgICAgcHJvbWlzZTogZmlsZURhdGFQcm9taXNlLAogICAgICByZXNwb25zZTogewogICAgICAgIGFjdGlvbjogJ2NvbnRpbnVlJywKICAgICAgfQogICAgfTsKCiAgICAvLyBVc2UgYSBjaHVua2VkIHNlbmRpbmcgdG8gYXZvaWQgbWVzc2FnZSBzaXplIGxpbWl0cy4gU2VlIGIvNjIxMTU2NjAuCiAgICBsZXQgcG9zaXRpb24gPSAwOwogICAgZG8gewogICAgICBjb25zdCBsZW5ndGggPSBNYXRoLm1pbihmaWxlRGF0YS5ieXRlTGVuZ3RoIC0gcG9zaXRpb24sIE1BWF9QQVlMT0FEX1NJWkUpOwogICAgICBjb25zdCBjaHVuayA9IG5ldyBVaW50OEFycmF5KGZpbGVEYXRhLCBwb3NpdGlvbiwgbGVuZ3RoKTsKICAgICAgcG9zaXRpb24gKz0gbGVuZ3RoOwoKICAgICAgY29uc3QgYmFzZTY0ID0gYnRvYShTdHJpbmcuZnJvbUNoYXJDb2RlLmFwcGx5KG51bGwsIGNodW5rKSk7CiAgICAgIHlpZWxkIHsKICAgICAgICByZXNwb25zZTogewogICAgICAgICAgYWN0aW9uOiAnYXBwZW5kJywKICAgICAgICAgIGZpbGU6IGZpbGUubmFtZSwKICAgICAgICAgIGRhdGE6IGJhc2U2NCwKICAgICAgICB9LAogICAgICB9OwoKICAgICAgbGV0IHBlcmNlbnREb25lID0gZmlsZURhdGEuYnl0ZUxlbmd0aCA9PT0gMCA/CiAgICAgICAgICAxMDAgOgogICAgICAgICAgTWF0aC5yb3VuZCgocG9zaXRpb24gLyBmaWxlRGF0YS5ieXRlTGVuZ3RoKSAqIDEwMCk7CiAgICAgIHBlcmNlbnQudGV4dENvbnRlbnQgPSBgJHtwZXJjZW50RG9uZX0lIGRvbmVgOwoKICAgIH0gd2hpbGUgKHBvc2l0aW9uIDwgZmlsZURhdGEuYnl0ZUxlbmd0aCk7CiAgfQoKICAvLyBBbGwgZG9uZS4KICB5aWVsZCB7CiAgICByZXNwb25zZTogewogICAgICBhY3Rpb246ICdjb21wbGV0ZScsCiAgICB9CiAgfTsKfQoKc2NvcGUuZ29vZ2xlID0gc2NvcGUuZ29vZ2xlIHx8IHt9OwpzY29wZS5nb29nbGUuY29sYWIgPSBzY29wZS5nb29nbGUuY29sYWIgfHwge307CnNjb3BlLmdvb2dsZS5jb2xhYi5fZmlsZXMgPSB7CiAgX3VwbG9hZEZpbGVzLAogIF91cGxvYWRGaWxlc0NvbnRpbnVlLAp9Owp9KShzZWxmKTsK",
       "headers": [
        [
         "content-type",
         "application/javascript"
        ]
       ],
       "ok": true,
       "status": 200,
       "status_text": ""
      }
     }
    },
    "id": "ZmXvprrmMRAy",
    "outputId": "ad012a81-621c-4d02-8052-0a567ed67df1"
   },
   "outputs": [
    {
     "data": {
      "text/html": [
       "\n",
       "     <input type=\"file\" id=\"files-aa63683e-fef5-41f7-b118-91dd45618710\" name=\"files[]\" multiple disabled\n",
       "        style=\"border:none\" />\n",
       "     <output id=\"result-aa63683e-fef5-41f7-b118-91dd45618710\">\n",
       "      Upload widget is only available when the cell has been executed in the\n",
       "      current browser session. Please rerun this cell to enable.\n",
       "      </output>\n",
       "      <script src=\"/nbextensions/google.colab/files.js\"></script> "
      ],
      "text/plain": [
       "<IPython.core.display.HTML object>"
      ]
     },
     "metadata": {},
     "output_type": "display_data"
    },
    {
     "name": "stdout",
     "output_type": "stream",
     "text": [
      "Saving LifeExpectancy_ytest.csv to LifeExpectancy_ytest.csv\n"
     ]
    }
   ],
   "source": [
    "### Upload \"LifeExpectancy_ytest.csv\" (the outcomes of test set) ###\n",
    "uploaded = files.upload()"
   ]
  },
  {
   "cell_type": "code",
   "execution_count": 18,
   "metadata": {
    "id": "nvk3pSVFOG17"
   },
   "outputs": [],
   "source": [
    "y_test = pd.read_csv(io.BytesIO(uploaded['LifeExpectancy_ytest.csv']))"
   ]
  },
  {
   "cell_type": "code",
   "execution_count": 19,
   "metadata": {
    "colab": {
     "base_uri": "https://localhost:8080/"
    },
    "id": "FpQe-p3LLXgA",
    "outputId": "ba2fc472-3d97-4714-e9ef-fc193b317d12"
   },
   "outputs": [
    {
     "name": "stdout",
     "output_type": "stream",
     "text": [
      "Training MSE: 12.965318722949508\n",
      "Test MSE: 13.7458339365048\n"
     ]
    }
   ],
   "source": [
    "### Evaluate the Linear Regression model by computing MSE on both training set and test set ###\n",
    "from sklearn.metrics import mean_squared_error\n",
    "mse_train = mean_squared_error(y_train, y_pred_train)\n",
    "mse_test = mean_squared_error(y_test, y_pred_test)\n",
    "\n",
    "print('Training MSE: {}'.format(mse_train))\n",
    "print('Test MSE: {}'.format(mse_test))"
   ]
  },
  {
   "cell_type": "markdown",
   "metadata": {
    "id": "O2jOEvNiO84E"
   },
   "source": [
    "Q8. Print the value of coefficients and also the corresponding variable names for the coefficients."
   ]
  },
  {
   "cell_type": "code",
   "execution_count": 20,
   "metadata": {
    "colab": {
     "base_uri": "https://localhost:8080/"
    },
    "id": "OsPlSowUPK_-",
    "outputId": "14ed8b6d-3af3-44fc-8e52-1f72003aad2e"
   },
   "outputs": [
    {
     "name": "stdout",
     "output_type": "stream",
     "text": [
      "[-2.0560016  -0.49000325  0.55240312  0.72574696  0.22795946  0.45655879\n",
      " -2.66691182  0.23152706 -0.05506158  2.04305151  2.65276553 -0.81416668\n",
      " -1.06612536 -0.77500688 -1.06211491 -1.08047587 -1.37443109 -1.38003099\n",
      " -1.69799232 -1.99798041 -2.1437721  -2.38425941 -2.30367194 -2.39145672\n",
      " -2.44319466 -0.41060049 -0.56333245]\n"
     ]
    }
   ],
   "source": [
    "print(lr_model.coef_) "
   ]
  },
  {
   "cell_type": "code",
   "execution_count": 21,
   "metadata": {
    "colab": {
     "base_uri": "https://localhost:8080/"
    },
    "id": "Uy-sRqS6QlCn",
    "outputId": "b25384db-a499-49d6-c6d3-a5f79749d5ed"
   },
   "outputs": [
    {
     "name": "stdout",
     "output_type": "stream",
     "text": [
      "['Adult_Mortality', 'Alcohol', 'percentage_expenditure', 'BMI', 'Total_expenditure', 'Diphtheria', 'HIV_AIDS', 'GDP', 'Population', 'Income_composition_of_resources', 'Schooling', 'Year_2001', 'Year_2002', 'Year_2003', 'Year_2004', 'Year_2005', 'Year_2006', 'Year_2007', 'Year_2008', 'Year_2009', 'Year_2010', 'Year_2011', 'Year_2012', 'Year_2013', 'Year_2014', 'Year_2015', 'Status_Developing']\n"
     ]
    }
   ],
   "source": [
    "X_numeric_name=list(X.drop(columns=['Year', 'Status'])) #the corresponding variable names for the linear regression coefficients\n",
    "X_numeric_name.extend(['Year_2001','Year_2002','Year_2003','Year_2004','Year_2005','Year_2006','Year_2007','Year_2008','Year_2009','Year_2010','Year_2011','Year_2012','Year_2013','Year_2014','Year_2015','Status_Developing'])\n",
    "print(X_numeric_name)"
   ]
  },
  {
   "cell_type": "markdown",
   "metadata": {
    "id": "q18iLjtHX25r"
   },
   "source": [
    "Q9. Is there a problem of multicolinearity? Explain what you can do\n",
    "\n",
    "Ans-  `GDP` and `percentage_expenditure` exhibit high correlation. `Schooling` and `Income_composition_of_resources` also exhibit high correlation. \n",
    "There is also multicolinearity between one-hot encoded columns. To fix this problem we can simply remove the predictors that are highly correlated or use a partial least squares regression analysis or PCA to reduce the dimensionality. For the one-hot encoded features, a common solution is to drop one of the features from the set."
   ]
  },
  {
   "cell_type": "markdown",
   "metadata": {
    "id": "FJ51d6d2YyPp"
   },
   "source": [
    "### Goodness of fit\n",
    "\n",
    "A model can always make predictions. But it is important to determine how good the model is.\n",
    "How do we know that our model captures the data well? When evaluating model fit, a good metric is $R^2$, which corresponds to the amount of variance explained by the model. The formula for $R^2$ is the following:\n",
    "\n",
    "$R^2$ = $1 - \\dfrac{RSS}{TSS}$<br/>\n",
    "where:<br/>\n",
    "$RSS = \\Sigma(y - \\hat{y})^2$<br/>\n",
    "$TSS = \\Sigma(y - \\bar{y})^2$<br/>\n",
    "\n",
    "$R^2$ is also one metric for comparing models against each other. It is intuitive to say that the model that explains more variation in the data is a better fit than one that explains less variation. \n",
    "\n",
    "Fill in the code for calculation of R2 score "
   ]
  },
  {
   "cell_type": "code",
   "execution_count": 22,
   "metadata": {
    "id": "Hr0giuHXY4J5"
   },
   "outputs": [],
   "source": [
    "from sklearn.metrics import r2_score"
   ]
  },
  {
   "cell_type": "markdown",
   "metadata": {
    "id": "kFiC_mfgY7m1"
   },
   "source": [
    "$R^2$ for model with \"Schooling\" as predictor and \"Life_expectancy\" as outcome"
   ]
  },
  {
   "cell_type": "code",
   "execution_count": null,
   "metadata": {
    "colab": {
     "base_uri": "https://localhost:8080/"
    },
    "id": "LIspp_FPaicb",
    "outputId": "772197a6-10ed-4982-cecb-500b4b6f0ae6"
   },
   "outputs": [
    {
     "name": "stdout",
     "output_type": "stream",
     "text": [
      "0.5575121346397232\n"
     ]
    }
   ],
   "source": [
    "x1 = df[\"Schooling\"].values.reshape(-1,1) \n",
    "y1 = df[\"Life_expectancy\"].values.reshape(-1,1)\n",
    "slr_model = LinearRegression() \n",
    "slr_model.fit(x1, y1) \n",
    "y_pred1 = slr_model.predict(x1)\n",
    "r1=r2_score(y1, y_pred1)\n",
    "# Print R2 score\n",
    "print(r1)"
   ]
  },
  {
   "cell_type": "markdown",
   "metadata": {
    "id": "5fGTnWcobCc_"
   },
   "source": [
    "$R^2$ for model with \"Schooling\", \"Adult_Mortality\" as predictor and \"Life_expectancy\" as outcome"
   ]
  },
  {
   "cell_type": "code",
   "execution_count": null,
   "metadata": {
    "colab": {
     "base_uri": "https://localhost:8080/"
    },
    "id": "XqBXqRZlbjy7",
    "outputId": "2c81d217-e2fa-4d24-dba0-555c9bd879ff"
   },
   "outputs": [
    {
     "name": "stdout",
     "output_type": "stream",
     "text": [
      "0.7223314341007621\n"
     ]
    }
   ],
   "source": [
    "x2 = df[[\"Schooling\", \"Adult_Mortality\"]].values\n",
    "y1 = df[\"Life_expectancy\"].values.reshape(-1,1)\n",
    "slr_model = LinearRegression() \n",
    "slr_model.fit(x2, y1) \n",
    "y_pred2 = slr_model.predict(x2)\n",
    "r2=r2_score(y1, y_pred2)\n",
    "# Print R2 score\n",
    "print(r2)"
   ]
  },
  {
   "cell_type": "markdown",
   "metadata": {
    "id": "dE1PDtR0bVdX"
   },
   "source": [
    "$R^2$ for model with \"Schooling\",\"Adult_Mortality\" and \"Population\" as predictor and \"Life_expectancy\" as outcome"
   ]
  },
  {
   "cell_type": "code",
   "execution_count": null,
   "metadata": {
    "colab": {
     "base_uri": "https://localhost:8080/"
    },
    "id": "5WxDGrKqbyR2",
    "outputId": "bcc92c36-2c02-4c88-b3b4-ea0611497b65"
   },
   "outputs": [
    {
     "name": "stdout",
     "output_type": "stream",
     "text": [
      "0.7223745101723086\n"
     ]
    }
   ],
   "source": [
    "x3 = df[[\"Schooling\", \"Adult_Mortality\",\"Population\"]].values\n",
    "y1 = df[\"Life_expectancy\"].values.reshape(-1,1)\n",
    "slr_model = LinearRegression() \n",
    "slr_model.fit(x3, y1) \n",
    "y_pred3 = slr_model.predict(x3)\n",
    "r3=r2_score(y1, y_pred3)\n",
    "# Print R2 score\n",
    "print(r3)"
   ]
  },
  {
   "cell_type": "markdown",
   "metadata": {
    "id": "vYdvN1CTcMuN"
   },
   "source": [
    "You can see $R^2$ is always going up as we keep adding features.\n",
    "\n",
    "This is one drawback of only using $R^2$ to evaluate your model. Adding predictors seems to always improve the predictive ability of your model, though it may not be true.\n",
    "\n",
    "That is to say, we are not necessarily interested in making a perfect prediciton of our training data. If we were, we would always use all of the predictors available. Rather, we would like to make a perfect prediction of our test data. In this case, adding all the predictors may not be a good idea due to the trade-off between bias and variance. Thus, we are interested in the most predictive features, in the hopes that we can create a simpler model that performs well in the future.\n",
    "\n",
    "This is why we consider another metric, Adjusted R2.\n",
    "The adjusted R-squared increases only if the new term improves the model more than would be expected by chance.\n",
    "\n",
    "\n",
    "$AdjustedR^2$ = $1 - \\dfrac{(1-R^2)(n-1)}{(n-k-1)}$<br/>\n",
    "where:<br/>\n",
    "n = number of samples<br/>\n",
    "k = number of features\n",
    "\n",
    "Fill in the code for calculation of adjusted R2 score"
   ]
  },
  {
   "cell_type": "markdown",
   "metadata": {
    "id": "CCqEwoDNcOgb"
   },
   "source": [
    "Adjusted $R^2$ for model with \"Schooling\" as predictor and \"Life_expectancy\" as outcome"
   ]
  },
  {
   "cell_type": "code",
   "execution_count": null,
   "metadata": {
    "colab": {
     "base_uri": "https://localhost:8080/"
    },
    "id": "mCgTtpskch0n",
    "outputId": "633d6587-191b-4a33-995a-8236e51841a2"
   },
   "outputs": [
    {
     "name": "stdout",
     "output_type": "stream",
     "text": [
      "0.5571280305899312\n"
     ]
    }
   ],
   "source": [
    "adj_r2 = (1 - (1 - r1) * ((x1.shape[0] - 1) / \n",
    "          (x1.shape[0] - x1.shape[1] - 1)))\n",
    "# Print Adjusted R2 score\n",
    "print(adj_r2)"
   ]
  },
  {
   "cell_type": "markdown",
   "metadata": {
    "id": "cKLKf_ODc842"
   },
   "source": [
    "Adjusted $R^2$ for model with \"Schooling\", \"Adult_Mortality\" as predictor and \"Life_expectancy\" as outcome."
   ]
  },
  {
   "cell_type": "code",
   "execution_count": null,
   "metadata": {
    "colab": {
     "base_uri": "https://localhost:8080/"
    },
    "id": "n6j0eaIxdFoD",
    "outputId": "95a78b4e-4a33-45be-ba3a-cd9f6255fff1"
   },
   "outputs": [
    {
     "name": "stdout",
     "output_type": "stream",
     "text": [
      "0.7218489517968538\n"
     ]
    }
   ],
   "source": [
    "adj_r2 = (1 - (1 - r2) * ((x2.shape[0] - 1) / \n",
    "          (x2.shape[0] - x2.shape[1] - 1)))\n",
    "# Print Adjusted R2 score\n",
    "print(adj_r2)"
   ]
  },
  {
   "cell_type": "markdown",
   "metadata": {
    "id": "R3oT1NbDdRcK"
   },
   "source": [
    "Adjusted $R^2$ for model with \"Schooling\",\"Adult_Mortality\" and \"Population\" as predictor and \"Life_expectancy\" as outcome"
   ]
  },
  {
   "cell_type": "code",
   "execution_count": null,
   "metadata": {
    "colab": {
     "base_uri": "https://localhost:8080/"
    },
    "id": "KLOFJL2LdVEz",
    "outputId": "5641e64b-ee4c-4dbc-928a-7cdb504eba75"
   },
   "outputs": [
    {
     "name": "stdout",
     "output_type": "stream",
     "text": [
      "0.7216502697640624\n"
     ]
    }
   ],
   "source": [
    "adj_r2 = (1 - (1 - r3) * ((x3.shape[0] - 1) / \n",
    "          (x3.shape[0] - x3.shape[1] - 1)))\n",
    "# Print Adjusted R2 score\n",
    "print(adj_r2)"
   ]
  },
  {
   "cell_type": "markdown",
   "metadata": {
    "id": "HDHU67n8d4x7"
   },
   "source": [
    "### K-fold Cross-Validation\n",
    "\n",
    "However, adjusted $R^2$ is not enough to help us ahieve the best model, a more robust method is k-fold cross-validation.\n",
    "\n",
    "* Randomly split dataset into K equal-sized subsets, or folds\n",
    "* Treat each fold as validation set (train on all but K'th fold and test on K'th fold only)\n",
    "\n",
    "* The overall error is then the mean error over all K models.\n",
    "* Most common are 5- or 10-fold cross-validation\n",
    "\n",
    "Please implement a 5-fold cross-validation by yourselves to find the best model in terms of Mean Square Error(MSE)\n",
    "\n",
    "**Do not use sklearn.model_selection.cross_val_score or other built-in cross-validaiton functions**"
   ]
  },
  {
   "cell_type": "code",
   "execution_count": 23,
   "metadata": {
    "id": "n_uDWdbhJgSa"
   },
   "outputs": [],
   "source": [
    "import random"
   ]
  },
  {
   "cell_type": "code",
   "execution_count": 24,
   "metadata": {
    "id": "QnbM2CcZFhWs"
   },
   "outputs": [],
   "source": [
    "# Second design a function to implement 5-fold cross-validation. \n",
    "# The input: training data with features X , training target y, # of folds f.\n",
    "# The output: the average of MSE over the 5 folds.\n",
    "\n",
    "def cross_val_mse(X, y, f):\n",
    "    ### Write your code here ###\n",
    "    cross_mse_val = [] #maintain the MSE for different k'th folds\n",
    "    \n",
    "    indices_all = list(range(len(y)))\n",
    "    random.seed(300)\n",
    "    random.shuffle(indices_all) \n",
    "    indices = np.array_split(indices_all, f)\n",
    "\n",
    "    # determine training and validation set \n",
    "    for k in range(f):\n",
    "        train_index = np.setdiff1d(indices_all, indices[k])\n",
    "        X_train_cv = X[train_index]\n",
    "        X_val = X[indices[k]]\n",
    "        y_train_cv = y[train_index]\n",
    "        y_val = y[indices[k]]\n",
    "        # linear regression on all training but k'th fold\n",
    "        lr = LinearRegression()\n",
    "        lr.fit(X_train_cv, y_train_cv)\n",
    "        # calculate the MSE on k'th fold\n",
    "        y_val_pred = lr.predict(X_val) \n",
    "        mse_val = mean_squared_error(y_val, y_val_pred)\n",
    "\n",
    "        cross_mse_val.append(mse_val)\n",
    "\n",
    "    return(np.mean(cross_mse_val))"
   ]
  },
  {
   "cell_type": "code",
   "execution_count": 25,
   "metadata": {
    "colab": {
     "base_uri": "https://localhost:8080/"
    },
    "id": "7E_-xS3qIURV",
    "outputId": "26f34969-400e-4108-adfc-ad6e649e7396"
   },
   "outputs": [
    {
     "data": {
      "text/plain": [
       "13.916413817140796"
      ]
     },
     "execution_count": 25,
     "metadata": {},
     "output_type": "execute_result"
    }
   ],
   "source": [
    "cross_val_mse(X_train, y_train, f=5)"
   ]
  },
  {
   "cell_type": "code",
   "execution_count": null,
   "metadata": {
    "id": "ZxURVCdbFuWB"
   },
   "outputs": [],
   "source": [
    "# By using your above functions, find the best combination of features, which has the lowest averaged MSE \n",
    "from itertools import combinations \n",
    "\n",
    "# List to maintain the different cross-validation MSE scores \n",
    "cross_val_mse_list = [] \n",
    "  \n",
    "# List to maintain the different combinations of features\n",
    "features = [] \n",
    "\n",
    "# Loop to compute the cross-validation MSE of different feature combinations\n",
    "for i in range(1, X.shape[1]+1):\n",
    "    comb = combinations(X, i) \n",
    "    for fea in comb:\n",
    "        fea = list(fea)\n",
    "        X_fea_training = X[fea]  \n",
    "        num_exist=list(set(X_fea_training.columns) - set(['Year', 'Status']))\n",
    "        cat_exist=list(set(X_fea_training.columns) & set(['Year', 'Status']))\n",
    "        enc = OneHotEncoder(sparse=False, drop='first')\n",
    "        scaler = StandardScaler()\n",
    "        if num_exist == []:\n",
    "            enc.fit(X_fea_training.drop(num_exist, axis=1))\n",
    "            X_oh_training = enc.transform(X_fea_training.drop(num_exist, axis=1))\n",
    "            X_trans_training = X_oh_training\n",
    "           \n",
    "        elif cat_exist == []:\n",
    "            scaler.fit(X_fea_training[num_exist])\n",
    "            X_num_training = scaler.transform(X_fea_training[num_exist])    \n",
    "            X_trans_training = X_num_training\n",
    "        else:\n",
    "            enc.fit(X_fea_training.drop(num_exist, axis=1))\n",
    "            scaler.fit(X_fea_training[num_exist])\n",
    "            X_oh_training = enc.transform(X_fea_training.drop(num_exist, axis=1))\n",
    "            \n",
    "            X_num_training = scaler.transform(X_fea_training[num_exist])\n",
    "            \n",
    "            X_trans_training = np.concatenate([X_num_training, X_oh_training], axis=1)\n",
    "            \n",
    "        \n",
    "        y_train = df[\"Life_expectancy\"]\n",
    "\n",
    "        avg_mse = cross_val_mse(X_trans_training, y_train, f = 5) \n",
    "        cross_val_mse_list.append(avg_mse) \n",
    "        features.append(fea) \n"
   ]
  },
  {
   "cell_type": "code",
   "execution_count": null,
   "metadata": {
    "colab": {
     "base_uri": "https://localhost:8080/"
    },
    "id": "T3WWuFZ-eGGE",
    "outputId": "1335b386-3a0b-487b-e8fc-470d23ca6333"
   },
   "outputs": [
    {
     "name": "stdout",
     "output_type": "stream",
     "text": [
      "['Year', 'Status', 'Adult_Mortality', 'Alcohol', 'percentage_expenditure', 'BMI', 'Diphtheria', 'HIV_AIDS', 'Income_composition_of_resources', 'Schooling']\n"
     ]
    }
   ],
   "source": [
    "# Print a list of the best covariates\n",
    "val, idx = min((val, idx) for (idx, val) in enumerate(cross_val_mse_list))\n",
    "best_feature = features[idx]\n",
    "print(best_feature)\n"
   ]
  },
  {
   "cell_type": "code",
   "execution_count": null,
   "metadata": {
    "colab": {
     "base_uri": "https://localhost:8080/"
    },
    "id": "84o-Ja6htZ-M",
    "outputId": "f4cb7862-2bf0-4959-ba17-934255d78a17"
   },
   "outputs": [
    {
     "data": {
      "text/plain": [
       "13.897628400222832"
      ]
     },
     "execution_count": 38,
     "metadata": {},
     "output_type": "execute_result"
    }
   ],
   "source": [
    "# Print the corresponding mse\n",
    "val"
   ]
  },
  {
   "cell_type": "markdown",
   "metadata": {
    "id": "F-WBDncGtiY2"
   },
   "source": [
    "### Test your model\n",
    "Now, apply your best model to predict the target values from the test feature set \"LifeExpectancy_test.csv\". We will grade this part based on your prediction error.\n",
    "\n",
    "Hint: Please be careful on standardization and one-hot encoding (if you use), the test set should be consistent with the training set in terms of any transformation.\n",
    "\n",
    "Hint2: You may want to modify the previous steps to make the transformation of the test set consistent with the training set."
   ]
  },
  {
   "cell_type": "code",
   "execution_count": 31,
   "metadata": {
    "id": "840o-fCL0zIJ"
   },
   "outputs": [],
   "source": [
    "train=pd.DataFrame(X_train,columns=X_numeric_name)\n",
    "test=pd.DataFrame(X_test,columns=X_numeric_name)"
   ]
  },
  {
   "cell_type": "code",
   "execution_count": 35,
   "metadata": {
    "id": "Go9KFCV31XGX"
   },
   "outputs": [],
   "source": [
    "best_train=train.drop(columns=['Total_expenditure','GDP','Population'])\n",
    "best_test=test.drop(columns=['Total_expenditure','GDP','Population'])"
   ]
  },
  {
   "cell_type": "code",
   "execution_count": 37,
   "metadata": {
    "colab": {
     "base_uri": "https://localhost:8080/"
    },
    "id": "tYJ-KOqzuLj2",
    "outputId": "6c1b9bb2-d68e-4e67-a4d7-b222cb77099b"
   },
   "outputs": [
    {
     "name": "stdout",
     "output_type": "stream",
     "text": [
      "Training MSE: 13.019297619165583\n",
      "Test MSE: 13.819368621295345\n"
     ]
    }
   ],
   "source": [
    "\n",
    "# Bulding and fitting the Linear Regression model \n",
    "lr_model = LinearRegression() \n",
    "lr_model.fit(best_train, y_train) \n",
    "\n",
    "\n",
    "y_pred_train = lr_model.predict(best_train)\n",
    "y_pred_test = lr_model.predict(best_test)\n",
    "\n",
    "from sklearn.metrics import mean_squared_error\n",
    "mse_train = mean_squared_error(y_train, y_pred_train)\n",
    "mse_test = mean_squared_error(y_test, y_pred_test) #y_test maintain the label for testset\n",
    "\n",
    "# Evaluating the Linear Regression model by computing MSE on test set\n",
    "print('Training MSE: {}'.format(mse_train))\n",
    "print('Test MSE: {}'.format(mse_test))"
   ]
  },
  {
   "cell_type": "code",
   "execution_count": null,
   "metadata": {
    "id": "aPfqPkQ2vbq7"
   },
   "outputs": [],
   "source": [
    "#end"
   ]
  },
  {
   "cell_type": "markdown",
   "metadata": {
    "id": "1GxXPil0iwSP"
   },
   "source": [
    "if we use sklearn.model_selection.cross_val_score:"
   ]
  },
  {
   "cell_type": "code",
   "execution_count": null,
   "metadata": {
    "id": "PrGvvpVHi8Qd"
   },
   "outputs": [],
   "source": [
    "from sklearn.model_selection import cross_val_score \n",
    "from itertools import combinations \n",
    "\n",
    "# List to maintain the different cross-validation MSE scores \n",
    "cross_val_mse_list = [] \n",
    "  \n",
    "# List to maintain the different combinations of features\n",
    "features = [] \n",
    "\n",
    "# Loop to compute the cross-validation MSE of different feature combinations\n",
    "for i in range(1, X_full.shape[1]+1):\n",
    "    comb = combinations(X_full, i) \n",
    "    for fea in comb:\n",
    "        fea = list(fea)\n",
    "        X = X_full[fea]\n",
    "        num_exist=list(set(X.columns) - set(['Year', 'Status']))\n",
    "        cat_exist=list(set(X.columns) & set(['Year', 'Status']))\n",
    "        enc = OneHotEncoder(sparse=False, drop='first')\n",
    "        scaler = StandardScaler()\n",
    "        if num_exist == []:\n",
    "            X_oh = enc.fit_transform(X.drop(num_exist, axis=1))\n",
    "            X_trans = X_oh\n",
    "        elif cat_exist == []:\n",
    "            X_num = scaler.fit_transform(X[num_exist])\n",
    "            X_trans = X_num\n",
    "        else:\n",
    "            X_oh = enc.fit_transform(X.drop(num_exist, axis=1))\n",
    "            X_num = scaler.fit_transform(X[num_exist])\n",
    "            X_trans = np.concatenate([X_num, X_oh], axis=1)\n",
    "        X_train_cro = X_trans[:-dft.shape[0],:] #current training set 2d array\n",
    "        X_test_cro = X_trans[-dft.shape[0]:,:] #current test set\n",
    "        y_train = df[\"Life_expectancy\"]\n",
    "\n",
    "        lr = LinearRegression()\n",
    "        mse = -cross_val_score(lr, X_train_cro, y_train, cv = 5, scoring=('neg_mean_squared_error')) \n",
    "        avg_mse = np.mean(mse)\n",
    "        cross_val_mse_list.append(avg_mse) \n",
    "        features.append(fea)"
   ]
  },
  {
   "cell_type": "code",
   "execution_count": null,
   "metadata": {
    "colab": {
     "base_uri": "https://localhost:8080/"
    },
    "id": "mt4Vyr3Tjp9r",
    "outputId": "75da7365-94c2-4e71-bb08-cf56c1992771"
   },
   "outputs": [
    {
     "name": "stdout",
     "output_type": "stream",
     "text": [
      "['Year', 'Adult_Mortality', 'Alcohol', 'percentage_expenditure', 'BMI', 'Total_expenditure', 'Diphtheria', 'HIV_AIDS', 'GDP', 'Income_composition_of_resources', 'Schooling']\n"
     ]
    }
   ],
   "source": [
    "# Print a list of the best covariates\n",
    "val, idx = min((val, idx) for (idx, val) in enumerate(cross_val_mse_list))\n",
    "best_feature = features[idx]\n",
    "print(best_feature)"
   ]
  },
  {
   "cell_type": "code",
   "execution_count": null,
   "metadata": {
    "colab": {
     "base_uri": "https://localhost:8080/"
    },
    "id": "D7idUhIvjrDP",
    "outputId": "d22a473f-a57f-484d-8028-c7dede445abe"
   },
   "outputs": [
    {
     "data": {
      "text/plain": [
       "13.833354334380815"
      ]
     },
     "execution_count": 47,
     "metadata": {},
     "output_type": "execute_result"
    }
   ],
   "source": [
    "# Print the corresponding mse\n",
    "val"
   ]
  }
 ],
 "metadata": {
  "colab": {
   "collapsed_sections": [],
   "name": "Exercise 1_2021_draft_v2.ipynb",
   "provenance": []
  },
  "kernelspec": {
   "display_name": "Python 3 (ipykernel)",
   "language": "python",
   "name": "python3"
  },
  "language_info": {
   "codemirror_mode": {
    "name": "ipython",
    "version": 3
   },
   "file_extension": ".py",
   "mimetype": "text/x-python",
   "name": "python",
   "nbconvert_exporter": "python",
   "pygments_lexer": "ipython3",
   "version": "3.9.12"
  }
 },
 "nbformat": 4,
 "nbformat_minor": 4
}
